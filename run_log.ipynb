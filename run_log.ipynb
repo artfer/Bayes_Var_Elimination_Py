{
 "cells": [
  {
   "cell_type": "code",
   "execution_count": 1,
   "metadata": {
    "scrolled": false
   },
   "outputs": [],
   "source": [
    "import bifParser \n",
    "import variableElimination as VE\n",
    "import time"
   ]
  },
  {
   "cell_type": "code",
   "execution_count": 2,
   "metadata": {},
   "outputs": [],
   "source": [
    "def execute_queries_time(queries,nodes):\n",
    "    for query in queries:\n",
    "    \n",
    "        print (query)\n",
    "    \n",
    "        end = 0\n",
    "        for i in range(5):\n",
    "            factors = bifParser.getFactors(nodes)\n",
    "            start = time.time()\n",
    "            VE.query(query,factors,orderBy=1)\n",
    "            end += time.time() - start\n",
    "        factors = []\n",
    "        end = end / 5\n",
    "        print(\"Less Variables\",\"{0:.3f}\".format(end))\n",
    "    \n",
    "    \n",
    "        end = 0\n",
    "        for i in range(5):\n",
    "            factors = bifParser.getFactors(nodes)\n",
    "            start = time.time()\n",
    "            VE.query(query,factors,orderBy=2)\n",
    "            end += time.time() - start\n",
    "        factors = []\n",
    "        end = end / 5\n",
    "        print('Table size',\"{0:.3f}\".format(end))\n",
    "    \n",
    "    \n",
    "        factors = bifParser.getFactors(nodes)\n",
    "        end = 0\n",
    "        for i in range(5):\n",
    "            factors = bifParser.getFactors(nodes)\n",
    "            start = time.time()\n",
    "            VE.query(query,factors,orderBy=3)\n",
    "            end += time.time() - start\n",
    "        factors = []\n",
    "        end = end / 5\n",
    "        print('Random',\"{0:.3f}\".format(end),'\\n')\n",
    "        \n",
    "        \n",
    "def execute_queries(queries,nodes):\n",
    "    for query in queries:\n",
    "        print (query)\n",
    "        factors = bifParser.getFactors(nodes)\n",
    "        print(VE.query(query,factors,orderBy=2,debug=False),'\\n')"
   ]
  },
  {
   "cell_type": "code",
   "execution_count": 12,
   "metadata": {
    "scrolled": false
   },
   "outputs": [
    {
     "name": "stdout",
     "output_type": "stream",
     "text": [
      "Pr? either\n",
      "[0.94, 0.06] \n",
      "\n",
      "Pr? xray|smoke=yes\n",
      "[0.85, 0.15] \n",
      "\n",
      "Pr? asia|smoke=no,xray=yes\n",
      "[0.98, 0.02] \n",
      "\n",
      "Pr? either\n",
      "Less Variables 0.086\n",
      "Table size 0.092\n",
      "Random 0.085 \n",
      "\n",
      "Pr? xray|smoke=yes\n",
      "Less Variables 0.156\n",
      "Table size 0.152\n",
      "Random 0.136 \n",
      "\n",
      "Pr? asia|smoke=no,xray=yes\n",
      "Less Variables 0.145\n",
      "Table size 0.138\n",
      "Random 0.136 \n",
      "\n"
     ]
    }
   ],
   "source": [
    "queries_asia = ['Pr? either',\n",
    "           'Pr? xray|smoke=yes',\n",
    "           'Pr? asia|smoke=no,xray=yes']\n",
    "\n",
    "def execute_asia():\n",
    "    nodes = bifParser.parser('asia.bif')\n",
    "    execute_queries(queries_asia,nodes)\n",
    "    execute_queries_time(queries_asia,nodes)\n",
    "\n",
    "execute_asia()"
   ]
  },
  {
   "cell_type": "code",
   "execution_count": 3,
   "metadata": {
    "scrolled": true
   },
   "outputs": [
    {
     "name": "stdout",
     "output_type": "stream",
     "text": [
      "Pr? Xray\n",
      "[0.79, 0.21] \n",
      "\n",
      "Pr? Cancer|Smoker=True\n",
      "[0.97, 0.03] \n",
      "\n",
      "Pr? Dyspnoea|Smoker=True,Xray=negative\n",
      "[0.7, 0.3] \n",
      "\n",
      "Pr? Xray\n",
      "Less Variables 0.052\n",
      "Table size 0.059\n",
      "Random 0.050 \n",
      "\n",
      "Pr? Cancer|Smoker=True\n",
      "Less Variables 0.120\n",
      "Table size 0.110\n",
      "Random 0.104 \n",
      "\n",
      "Pr? Dyspnoea|Smoker=True,Xray=negative\n",
      "Less Variables 0.118\n",
      "Table size 0.116\n",
      "Random 0.101 \n",
      "\n"
     ]
    }
   ],
   "source": [
    "queries_cancer = ['Pr? Xray',\n",
    "           'Pr? Cancer|Smoker=True',\n",
    "           'Pr? Dyspnoea|Smoker=True,Xray=negative']\n",
    "\n",
    "def execute_cancer():\n",
    "    nodes = bifParser.parser('cancer.bif')\n",
    "    execute_queries(queries_cancer,nodes)\n",
    "    execute_queries_time(queries_cancer,nodes)\n",
    "\n",
    "execute_cancer()"
   ]
  },
  {
   "cell_type": "code",
   "execution_count": null,
   "metadata": {},
   "outputs": [],
   "source": []
  }
 ],
 "metadata": {
  "kernelspec": {
   "display_name": "Python 3",
   "language": "python",
   "name": "python3"
  },
  "language_info": {
   "codemirror_mode": {
    "name": "ipython",
    "version": 3
   },
   "file_extension": ".py",
   "mimetype": "text/x-python",
   "name": "python",
   "nbconvert_exporter": "python",
   "pygments_lexer": "ipython3",
   "version": "3.6.8"
  }
 },
 "nbformat": 4,
 "nbformat_minor": 2
}
